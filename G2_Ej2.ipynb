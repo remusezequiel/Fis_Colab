{
  "nbformat": 4,
  "nbformat_minor": 0,
  "metadata": {
    "colab": {
      "name": "G2-Ej2.ipynb",
      "provenance": [],
      "authorship_tag": "ABX9TyMyMcLu9ofPg0Z1QrDatlQ7",
      "include_colab_link": true
    },
    "kernelspec": {
      "name": "python3",
      "display_name": "Python 3"
    },
    "language_info": {
      "name": "python"
    }
  },
  "cells": [
    {
      "cell_type": "markdown",
      "metadata": {
        "id": "view-in-github",
        "colab_type": "text"
      },
      "source": [
        "<a href=\"https://colab.research.google.com/github/remusezequiel/Fis_Colab/blob/main/G2_Ej2.ipynb\" target=\"_parent\"><img src=\"https://colab.research.google.com/assets/colab-badge.svg\" alt=\"Open In Colab\"/></a>"
      ]
    },
    {
      "cell_type": "markdown",
      "source": [
        "# Ejercicio 2 - Guia 2\n",
        "\n",
        "Considerar el sistema simplificado que se basa en una molécula triatómica simétrica. En el equilibrio dos átomos de masa $m$ están situados a ambos lados del átomo de masa $M = 2m$ y vinculados por resortes de constante $k$ y longitud $l_0$. Analizar solamente los modos longitudinales.\n",
        "\n",
        "- a) Encuentre las ecuaciónes de movimiento de cada masa. Se recomienda plantee el problema (y todos los demás de aqui en más) a partir de las posiciones de equilibrio de cada particula. \n",
        "- b) Halle las frecuencias de los modos normales.\n",
        "- c) Dibuje las configuraciónes de cada modo. Graficar el movimiento de cada masa en cada uno de los modos vibracionales.\n",
        "- d) Si el centro de masa de la molécula se mueve con velocidad $v=cte$, halle la solución para $\\psi_a(t)$, $\\psi_b(t)$, $\\psi_c(t)$.\n",
        "- e) Establezca cuáles deben ser las condiciones iniciales para exitar sólo el modo mas alto (mayor frecuencia)\n",
        "- f) Si se aplica a una de las masas una fuerza armónica, ¿a cuál conviene aplicarla para exitar más eficientemente el modo de mayor freciencia?"
      ],
      "metadata": {
        "id": "u94qPPS-bMAP"
      }
    },
    {
      "cell_type": "markdown",
      "source": [
        "- a) Utilizaremos los estiramientos $\\psi_a$, $\\psi_b$, $\\psi_c$.\n",
        "\n",
        "Vamos a conseguir tres modos, pues, tenemos tres masas involucradas en el movimiento. \n",
        "\n",
        "Uno de ellos va a tener que ver con *el movimiento de traslacion del sistema sin estiramiento de los resortes*, es decir, un movimiento de la molecula de forma \"rigida\", <font color='#3ccf64'>esperamos un modo en el cual la frecuencia sea nula</font>. \n",
        "\n",
        "Además, esperamos tambien un modo en el cual, la masa del medio no se mueva y las de los costados se muevan en simetria respecto del átomo central, es decir si el de la izquierda se aleja del átomo del medio, entonces el de la derecha lo va a ser con la misma frecuencia, es decir, <font color='#3ccf64'>esperamos un modo con una frecuencia de un oscilador armonico simple</font>. \n",
        "\n",
        "Por ultimo, tambien deberia haber un modo que indique un movimiento en contrafase del átomo del medio. <font color='#3ccf64'>esperamos un modo con una frecuencia que dependa de la masa del medio.</font>"
      ],
      "metadata": {
        "id": "Vlv0B4QdeHae"
      }
    },
    {
      "cell_type": "code",
      "source": [
        ""
      ],
      "metadata": {
        "id": "p7sB8qFzg-xD"
      },
      "execution_count": null,
      "outputs": []
    }
  ]
}